{
 "cells": [
  {
   "cell_type": "code",
   "execution_count": 2,
   "metadata": {},
   "outputs": [
    {
     "name": "stderr",
     "output_type": "stream",
     "text": [
      "/home/hyc_1/.local/lib/python3.10/site-packages/matplotlib/projections/__init__.py:63: UserWarning: Unable to import Axes3D. This may be due to multiple versions of Matplotlib being installed (e.g. as a system package and as a pip package). As a result, the 3D projection is not available.\n",
      "  warnings.warn(\"Unable to import Axes3D. This may be due to multiple versions of \"\n"
     ]
    }
   ],
   "source": [
    "import numpy as np\n",
    "import matplotlib.pyplot as plt "
   ]
  },
  {
   "cell_type": "code",
   "execution_count": 3,
   "metadata": {},
   "outputs": [],
   "source": [
    "import math \n",
    "from scipy.fftpack import *\n",
    "\n",
    "def hilbert_transform(signal):\n",
    "    '''\n",
    "    N : fft length\n",
    "    M : number of elements to zero out\n",
    "    U : DFT of signal\n",
    "    V: IDFT of H(U) \n",
    "    '''\n",
    "\n",
    "    N = len(signal)\n",
    "    #take the forward Fourier transform\n",
    "    U = fft(signal)\n",
    "    M = N - N//2 - 1\n",
    "    #Zero out negative frequency components\n",
    "    U[N//2+1:] = [0] * M \n",
    "    #double fft energy except #DC0\n",
    "    U[1:N//2] = 2 * U[1:N//2]\n",
    "    #take inverse of Fourier transform\n",
    "    v = ifft(U)\n",
    "    return v "
   ]
  },
  {
   "cell_type": "code",
   "execution_count": 4,
   "metadata": {},
   "outputs": [],
   "source": [
    "\n",
    "dt= 0.1\n",
    "\n",
    "times = np.linspace(0,1000,int(1000/dt))\n",
    "\n",
    "sig_1 = np.sin(times*2*3.14) + np.random.normal(scale=0.1,size=len(times))\n",
    "sig_2 = np.sin(times*2*3.14) + np.random.normal(scale=0.2,size=len(times))\n",
    "\n",
    "sig_3 = np.cos(times*2*3.14) + np.random.normal(scale=0.1,size=len(times))\n",
    "\n",
    "\n",
    "sig_4 = np.random.normal(scale=0.6,size=len(times))\n",
    "\n",
    "\n"
   ]
  },
  {
   "cell_type": "code",
   "execution_count": 5,
   "metadata": {},
   "outputs": [],
   "source": [
    "sig_1_ana = hilbert_transform(sig_1)\n",
    "sig_2_ana = hilbert_transform(sig_2)\n",
    "sig_3_ana = hilbert_transform(sig_3)\n",
    "sig_4_ana = hilbert_transform(sig_4)\n",
    "\n"
   ]
  },
  {
   "cell_type": "code",
   "execution_count": 6,
   "metadata": {},
   "outputs": [],
   "source": [
    "z_1 = sig_1_ana * np.conjugate(sig_2_ana) / (np.abs(sig_1_ana) * np.abs(sig_2_ana))\n",
    "angles_1 = np.angle(z_1)"
   ]
  },
  {
   "cell_type": "code",
   "execution_count": 12,
   "metadata": {},
   "outputs": [
    {
     "data": {
      "image/png": "[encoded data removed]",
      "text/plain": [
       "<Figure size 432x288 with 1 Axes>"
      ]
     },
     "metadata": {
      "needs_background": "light"
     },
     "output_type": "display_data"
    }
   ],
   "source": [
    "psd = np.abs(np.fft.fft(z_1))\n",
    "freqs = np.fft.fftfreq(len(z_1),d=dt)\n",
    "plt.plot(freqs,psd)\n",
    "maximum = np.max(psd)"
   ]
  },
  {
   "cell_type": "code",
   "execution_count": null,
   "metadata": {},
   "outputs": [
    {
     "name": "stdout",
     "output_type": "stream",
     "text": [
      "frequency: 9.818181818181818\n"
     ]
    }
   ],
   "source": [
    "frequencies = np.linspace(2,88,num=100)\n",
    "sigma = 0.5\n",
    "for i in frequencies:\n",
    "    lowcut = i - sigma\n",
    "    highcut = i + sigma\n",
    "    help = np.fft.fft(sig_1_ana)\n",
    "    W = np.fft.fftfreq(len(sig_1_ana),d=0.01)\n",
    "    help[(np.abs(W)<highcut) &  (np.abs(W)>lowcut) ] = 0\n",
    "\n",
    "    filtered_signal_1 = np.fft.ifft(help)\n",
    "\n",
    "\n",
    "    test_z = filtered_signal_1 * np.conjugate(sig_2_ana) / (np.abs(filtered_signal_1) * np.abs(sig_2_ana))\n",
    "\n",
    "    welsh_power = np.abs(np.fft.fft(test_z))\n",
    "    welsh_frequencies = np.fft.fftfreq(len(test_z),d=0.01)\n",
    "    #plt.plot(welsh_frequencies,welsh_power)\n",
    "    #plt.show()\n",
    "    maximum_new = np.max(welsh_power)\n",
    "    point = np.argwhere(welsh_power==maximum_new)[0][0] \n",
    "    central_freq_new = welsh_frequencies[point]\n"
   ]
  },
  {
   "cell_type": "code",
   "execution_count": 20,
   "metadata": {},
   "outputs": [
    {
     "name": "stdout",
     "output_type": "stream",
     "text": [
      "frequency: 9.818181818181818\n"
     ]
    }
   ],
   "source": [
    "frequencies = np.linspace(2,88,num=100)\n",
    "sigma = 0.5\n",
    "for i in frequencies:\n",
    "    lowcut = i - sigma\n",
    "    highcut = i + sigma\n",
    "    help = np.fft.fft(sig_2_ana)\n",
    "    W = np.fft.fftfreq(len(sig_2_ana),d=0.01)\n",
    "    help[(np.abs(W)<highcut) &  (np.abs(W)>lowcut) ] = 0\n",
    "\n",
    "    filtered_signal_1 = np.fft.ifft(help)\n",
    "\n",
    "\n",
    "    test_z = sig_1_ana * np.conjugate(filtered_signal_1) / (np.abs(filtered_signal_1) * np.abs(sig_1_ana))\n",
    "\n",
    "    welsh_power = np.abs(np.fft.fft(test_z))\n",
    "    welsh_frequencies = np.fft.fftfreq(len(test_z),d=0.01)\n",
    "    #plt.plot(welsh_frequencies,welsh_power)\n",
    "    #plt.show()\n",
    "    maximum_new = np.max(welsh_power)\n",
    "    point = np.argwhere(welsh_power==maximum_new)[0][0] \n",
    "    central_freq_new = welsh_frequencies[point]\n",
    "    if maximum_new < maximum/10:\n",
    "        print('frequency:', i)\n",
    "        break "
   ]
  },
  {
   "cell_type": "code",
   "execution_count": null,
   "metadata": {},
   "outputs": [],
   "source": []
  }
 ],
 "metadata": {
  "kernelspec": {
   "display_name": "Python 3",
   "language": "python",
   "name": "python3"
  },
  "language_info": {
   "codemirror_mode": {
    "name": "ipython",
    "version": 3
   },
   "file_extension": ".py",
   "mimetype": "text/x-python",
   "name": "python",
   "nbconvert_exporter": "python",
   "pygments_lexer": "ipython3",
   "version": "3.10.12"
  }
 },
 "nbformat": 4,
 "nbformat_minor": 2
}
