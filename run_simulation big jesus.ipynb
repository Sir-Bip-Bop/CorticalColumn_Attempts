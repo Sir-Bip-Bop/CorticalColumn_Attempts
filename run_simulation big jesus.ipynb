{
 "cells": [
  {
   "cell_type": "code",
   "execution_count": 1,
   "metadata": {},
   "outputs": [
    {
     "name": "stdout",
     "output_type": "stream",
     "text": [
      "\n",
      "              -- N E S T --\n",
      "  Copyright (C) 2004 The NEST Initiative\n",
      "\n",
      " Version: 3.7.0\n",
      " Built: Apr 15 2024 07:21:32\n",
      "\n",
      " This program is provided AS IS and comes with\n",
      " NO WARRANTY. See the file LICENSE for details.\n",
      "\n",
      " Problems or suggestions?\n",
      "   Visit https://www.nest-simulator.org\n",
      "\n",
      " Type 'nest.help()' to find out more about NEST.\n",
      "\n"
     ]
    },
    {
     "name": "stderr",
     "output_type": "stream",
     "text": [
      "/home/hyc_1/.local/lib/python3.10/site-packages/matplotlib/projections/__init__.py:63: UserWarning:Unable to import Axes3D. This may be due to multiple versions of Matplotlib being installed (e.g. as a system package and as a pip package). As a result, the 3D projection is not available.\n"
     ]
    }
   ],
   "source": [
    "import nest\n",
    "import os\n",
    "import network\n",
    "import addons\n",
    "import numpy as np\n",
    "from network_params_jesus import net_dict\n",
    "import network_params_jesus\n",
    "from sim_params import sim_dict\n",
    "from stimulus_params import stim_dict"
   ]
  },
  {
   "cell_type": "markdown",
   "metadata": {},
   "source": [
    "Initialize the network with simulation, network and stimulation parameters, then create and connect all nodes, and finally simulate. The times for a presimulation and the main simulation are taken independently. A presimulation is useful because the spike activity typically exhibits a startup transient. In benchmark simulations, this transient should be excluded from a time measurement of the state propagation phase. Besides, statistical measures of the spike activity should only be computed after the transient has passed."
   ]
  },
  {
   "cell_type": "code",
   "execution_count": null,
   "metadata": {},
   "outputs": [
    {
     "ename": "TypeError",
     "evalue": "Network.__init__() got an unexpected keyword argument 'ex_in_balance'",
     "output_type": "error",
     "traceback": [
      "\u001b[0;31m---------------------------------------------------------------------------\u001b[0m",
      "\u001b[0;31mTypeError\u001b[0m                                 Traceback (most recent call last)",
      "\u001b[0;32m/tmp/ipykernel_1003208/1983908635.py\u001b[0m in \u001b[0;36m<module>\u001b[0;34m\u001b[0m\n\u001b[1;32m     17\u001b[0m \u001b[0;34m\u001b[0m\u001b[0m\n\u001b[1;32m     18\u001b[0m \u001b[0;34m\u001b[0m\u001b[0m\n\u001b[0;32m---> 19\u001b[0;31m         \u001b[0mnet\u001b[0m \u001b[0;34m=\u001b[0m \u001b[0mnetwork\u001b[0m\u001b[0;34m.\u001b[0m\u001b[0mNetwork\u001b[0m\u001b[0;34m(\u001b[0m\u001b[0msim_dict\u001b[0m\u001b[0;34m,\u001b[0m \u001b[0mnet_dict\u001b[0m\u001b[0;34m,\u001b[0m \u001b[0mstim_dict\u001b[0m\u001b[0;34m,\u001b[0m \u001b[0mpath\u001b[0m \u001b[0;34m=\u001b[0m \u001b[0mpath\u001b[0m \u001b[0;34m+\u001b[0m \u001b[0mstr\u001b[0m\u001b[0;34m(\u001b[0m\u001b[0mround\u001b[0m\u001b[0;34m(\u001b[0m\u001b[0mbg_rate\u001b[0m\u001b[0;34m[\u001b[0m\u001b[0mi\u001b[0m\u001b[0;34m]\u001b[0m\u001b[0;34m,\u001b[0m\u001b[0;36m2\u001b[0m\u001b[0;34m)\u001b[0m\u001b[0;34m)\u001b[0m \u001b[0;34m+\u001b[0m \u001b[0;34m\"/trial_\"\u001b[0m\u001b[0;34m+\u001b[0m\u001b[0mstr\u001b[0m\u001b[0;34m(\u001b[0m\u001b[0mj\u001b[0m\u001b[0;34m)\u001b[0m \u001b[0;34m+\u001b[0m \u001b[0;34m\"/\"\u001b[0m\u001b[0;34m,\u001b[0m \u001b[0mex_in_balance\u001b[0m\u001b[0;34m=\u001b[0m \u001b[0mbg_rate\u001b[0m\u001b[0;34m[\u001b[0m\u001b[0mi\u001b[0m\u001b[0;34m]\u001b[0m\u001b[0;34m)\u001b[0m\u001b[0;34m\u001b[0m\u001b[0;34m\u001b[0m\u001b[0m\n\u001b[0m\u001b[1;32m     20\u001b[0m \u001b[0;34m\u001b[0m\u001b[0m\n\u001b[1;32m     21\u001b[0m         \u001b[0mnet\u001b[0m\u001b[0;34m.\u001b[0m\u001b[0mcreate\u001b[0m\u001b[0;34m(\u001b[0m\u001b[0mrate\u001b[0m\u001b[0;34m=\u001b[0m\u001b[0;34m\"random\"\u001b[0m\u001b[0;34m)\u001b[0m\u001b[0;34m\u001b[0m\u001b[0;34m\u001b[0m\u001b[0m\n",
      "\u001b[0;31mTypeError\u001b[0m: Network.__init__() got an unexpected keyword argument 'ex_in_balance'"
     ]
    }
   ],
   "source": [
    "record_synapses = True\n",
    "\n",
    "\n",
    "\n",
    "bg_rate = np.linspace(0,20,int((20-5)/0.25))\n",
    "\n",
    "number_trials = 1\n",
    "\n",
    "\n",
    "path = \"data_background_rate_jesus/\"\n",
    "\n",
    "for i in range(len(bg_rate)):\n",
    "     if not os.path.exists(path + str(round(bg_rate[i],2))):\n",
    "        os.makedirs(path + str(round(bg_rate[i],2)))\n",
    "     for j in range(number_trials):\n",
    "        nest.ResetKernel()\n",
    "\n",
    "       \n",
    "        net = network.Network(sim_dict, net_dict, stim_dict, path = path + str(round(bg_rate[i],2)) + \"/trial_\"+str(j) + \"/\", bg_rate= bg_rate[i])\n",
    "\n",
    "        net.create(rate=\"random\")\n",
    "        net.connect()\n",
    "    \n",
    "        if record_synapses:\n",
    "            data_synapses = addons.number_synapses(net.pops)\n",
    "        record_synapses = False\n",
    "    \n",
    "\n",
    "        net.simulate(sim_dict[\"t_presim\"])\n",
    "        net.simulate(sim_dict[\"t_sim\"])\n",
    "        raster_plot_interval = np.array([500, 900])\n",
    "        firing_rates_interval = np.array([500,60500])\n",
    "        pop_activity = net.evaluate(raster_plot_interval, firing_rates_interval,binned=True, plot=False)"
   ]
  },
  {
   "cell_type": "code",
   "execution_count": null,
   "metadata": {},
   "outputs": [],
   "source": []
  }
 ],
 "metadata": {
  "kernelspec": {
   "display_name": "Python 3",
   "language": "python",
   "name": "python3"
  },
  "language_info": {
   "codemirror_mode": {
    "name": "ipython",
    "version": 3
   },
   "file_extension": ".py",
   "mimetype": "text/x-python",
   "name": "python",
   "nbconvert_exporter": "python",
   "pygments_lexer": "ipython3",
   "version": "3.10.12"
  }
 },
 "nbformat": 4,
 "nbformat_minor": 2
}
